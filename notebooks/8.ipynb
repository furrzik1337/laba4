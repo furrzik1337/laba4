{
 "cells": [
  {
   "cell_type": "code",
   "execution_count": 1,
   "id": "f38f150a-b131-4f3a-ae9d-40bc04ccd5c7",
   "metadata": {},
   "outputs": [
    {
     "name": "stdout",
     "output_type": "stream",
     "text": [
      "Результат сложения (с NaN):\n",
      "a     NaN\n",
      "b    25.0\n",
      "c    45.0\n",
      "d    65.0\n",
      "e     NaN\n",
      "dtype: float64\n",
      "\n",
      "Результат сложения (NaN заменены на 0):\n",
      "a     0.0\n",
      "b    25.0\n",
      "c    45.0\n",
      "d    65.0\n",
      "e     0.0\n",
      "dtype: float64\n"
     ]
    }
   ],
   "source": [
    "import pandas as pd\n",
    "\n",
    "# Создаем Series s1\n",
    "s1 = pd.Series([10, 20, 30, 40], index=['a', 'b', 'c', 'd'])\n",
    "\n",
    "# Создаем Series s2\n",
    "s2 = pd.Series([5, 15, 25, 35], index=['b', 'c', 'd', 'e'])\n",
    "\n",
    "# Выполняем сложение s1 + s2\n",
    "result = s1 + s2\n",
    "print(\"Результат сложения (с NaN):\")\n",
    "print(result)\n",
    "\n",
    "# Заменяем NaN на 0\n",
    "result_filled = result.fillna(0)\n",
    "print(\"\\nРезультат сложения (NaN заменены на 0):\")\n",
    "print(result_filled)\n"
   ]
  },
  {
   "cell_type": "code",
   "execution_count": null,
   "id": "e1556ca5-58bb-4a25-8e0e-fb356a486f13",
   "metadata": {},
   "outputs": [],
   "source": []
  }
 ],
 "metadata": {
  "kernelspec": {
   "display_name": "Python [conda env:base] *",
   "language": "python",
   "name": "conda-base-py"
  },
  "language_info": {
   "codemirror_mode": {
    "name": "ipython",
    "version": 3
   },
   "file_extension": ".py",
   "mimetype": "text/x-python",
   "name": "python",
   "nbconvert_exporter": "python",
   "pygments_lexer": "ipython3",
   "version": "3.12.7"
  }
 },
 "nbformat": 4,
 "nbformat_minor": 5
}
