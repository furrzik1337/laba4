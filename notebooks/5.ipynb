{
 "cells": [
  {
   "cell_type": "code",
   "execution_count": 1,
   "id": "80eeae53-cd44-4556-bc77-d4eb878384a2",
   "metadata": {},
   "outputs": [
    {
     "name": "stdout",
     "output_type": "stream",
     "text": [
      "Тип данных до преобразования: object\n",
      "Тип данных после преобразования: category\n"
     ]
    }
   ],
   "source": [
    "import pandas as pd\n",
    "\n",
    "# Создаем Series из списка строк\n",
    "data = ['cat', 'dog', 'rabbit', 'parrot', 'fish']\n",
    "series = pd.Series(data)\n",
    "\n",
    "# Определяем тип данных Series\n",
    "print(\"Тип данных до преобразования:\", series.dtype)\n",
    "\n",
    "# Преобразуем тип данных в 'category'\n",
    "categorical_series = series.astype('category')\n",
    "\n",
    "# Определяем тип данных после преобразования\n",
    "print(\"Тип данных после преобразования:\", categorical_series.dtype)\n"
   ]
  },
  {
   "cell_type": "code",
   "execution_count": null,
   "id": "2a89ce1a-4057-4c25-87b8-34610231bc9d",
   "metadata": {},
   "outputs": [],
   "source": []
  }
 ],
 "metadata": {
  "kernelspec": {
   "display_name": "Python [conda env:base] *",
   "language": "python",
   "name": "conda-base-py"
  },
  "language_info": {
   "codemirror_mode": {
    "name": "ipython",
    "version": 3
   },
   "file_extension": ".py",
   "mimetype": "text/x-python",
   "name": "python",
   "nbconvert_exporter": "python",
   "pygments_lexer": "ipython3",
   "version": "3.12.7"
  }
 },
 "nbformat": 4,
 "nbformat_minor": 5
}
