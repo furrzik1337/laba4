{
 "cells": [
  {
   "cell_type": "code",
   "execution_count": 3,
   "id": "34970f4f-14ba-4aae-9499-df8a58a2cb9a",
   "metadata": {},
   "outputs": [
    {
     "name": "stdout",
     "output_type": "stream",
     "text": [
      "Файл data.csv успешно создан.\n"
     ]
    }
   ],
   "source": [
    "import pandas as pd\n",
    "\n",
    "# Данные для записи в CSV-файл\n",
    "data = {'Дата': ['2024-03-01', '2024-03-02', '2024-03-03', '2024-03-04', '2024-03-05'],\n",
    "        'Цена': [100, 110, 105, 120, 115]}\n",
    "\n",
    "# Создаем DataFrame из данных\n",
    "df = pd.DataFrame(data)\n",
    "\n",
    "# Записываем DataFrame в CSV-файл с разделителем запятой\n",
    "df.to_csv('data.csv', index=False, sep=',')\n",
    "\n",
    "print(\"Файл data.csv успешно создан.\")\n",
    "\n"
   ]
  },
  {
   "cell_type": "code",
   "execution_count": null,
   "id": "856539df-52b9-4445-a070-79ae903e4be1",
   "metadata": {},
   "outputs": [],
   "source": []
  }
 ],
 "metadata": {
  "kernelspec": {
   "display_name": "Python [conda env:base] *",
   "language": "python",
   "name": "conda-base-py"
  },
  "language_info": {
   "codemirror_mode": {
    "name": "ipython",
    "version": 3
   },
   "file_extension": ".py",
   "mimetype": "text/x-python",
   "name": "python",
   "nbconvert_exporter": "python",
   "pygments_lexer": "ipython3",
   "version": "3.12.7"
  }
 },
 "nbformat": 4,
 "nbformat_minor": 5
}
