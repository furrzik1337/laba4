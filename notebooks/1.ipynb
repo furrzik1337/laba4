{
 "cells": [
  {
   "cell_type": "code",
   "execution_count": 1,
   "id": "deeb5462-7752-4b3b-85d3-15da510dcd8e",
   "metadata": {},
   "outputs": [
    {
     "name": "stdout",
     "output_type": "stream",
     "text": [
      "a     5\n",
      "b    15\n",
      "c    25\n",
      "d    35\n",
      "e    45\n",
      "dtype: int64\n",
      "\n",
      "Тип данных Series: int64\n"
     ]
    }
   ],
   "source": [
    "import pandas as pd\n",
    "\n",
    "# Создаем Series\n",
    "data = [5, 15, 25, 35, 45]\n",
    "index = ['a', 'b', 'c', 'd', 'e']\n",
    "series = pd.Series(data, index=index)\n",
    "\n",
    "# Выводим Series на экран\n",
    "print(series)\n",
    "\n",
    "# Определяем и выводим тип данных Series\n",
    "print(\"\\nТип данных Series:\", series.dtype)\n"
   ]
  },
  {
   "cell_type": "code",
   "execution_count": null,
   "id": "830cdd79-3a02-4546-bf1e-66e1043f0edc",
   "metadata": {},
   "outputs": [],
   "source": []
  }
 ],
 "metadata": {
  "kernelspec": {
   "display_name": "Python [conda env:base] *",
   "language": "python",
   "name": "conda-base-py"
  },
  "language_info": {
   "codemirror_mode": {
    "name": "ipython",
    "version": 3
   },
   "file_extension": ".py",
   "mimetype": "text/x-python",
   "name": "python",
   "nbconvert_exporter": "python",
   "pygments_lexer": "ipython3",
   "version": "3.12.7"
  }
 },
 "nbformat": 4,
 "nbformat_minor": 5
}
