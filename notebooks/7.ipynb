{
 "cells": [
  {
   "cell_type": "code",
   "execution_count": 1,
   "id": "23c4b05b-6c1f-42d4-8544-a489b10c1041",
   "metadata": {},
   "outputs": [
    {
     "name": "stdout",
     "output_type": "stream",
     "text": [
      "0    1.20\n",
      "1    4.25\n",
      "2    3.40\n",
      "3    4.25\n",
      "4    5.60\n",
      "5    6.80\n",
      "dtype: float64\n"
     ]
    }
   ],
   "source": [
    "import pandas as pd\n",
    "import numpy as np\n",
    "\n",
    "# Создаем Series с пропущенными значениями (NaN)\n",
    "data = [1.2, np.nan, 3.4, np.nan, 5.6, 6.8]\n",
    "series = pd.Series(data)\n",
    "\n",
    "# Вычисляем среднее значение непустых элементов\n",
    "mean_value = series.mean()\n",
    "\n",
    "# Заменяем NaN на среднее значение\n",
    "series_filled = series.fillna(mean_value)\n",
    "\n",
    "# Выводим результат\n",
    "print(series_filled)\n"
   ]
  },
  {
   "cell_type": "code",
   "execution_count": null,
   "id": "13269a06-4d76-4147-9346-ac0de17d049c",
   "metadata": {},
   "outputs": [],
   "source": []
  }
 ],
 "metadata": {
  "kernelspec": {
   "display_name": "Python [conda env:base] *",
   "language": "python",
   "name": "conda-base-py"
  },
  "language_info": {
   "codemirror_mode": {
    "name": "ipython",
    "version": 3
   },
   "file_extension": ".py",
   "mimetype": "text/x-python",
   "name": "python",
   "nbconvert_exporter": "python",
   "pygments_lexer": "ipython3",
   "version": "3.12.7"
  }
 },
 "nbformat": 4,
 "nbformat_minor": 5
}
