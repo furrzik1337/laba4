{
 "cells": [
  {
   "cell_type": "code",
   "execution_count": 1,
   "id": "ad76799d-18b5-48d6-af2c-4b68a8dd7104",
   "metadata": {},
   "outputs": [
    {
     "name": "stdout",
     "output_type": "stream",
     "text": [
      "Первые 7 элементов:\n",
      "0    48\n",
      "1    55\n",
      "2    50\n",
      "3    73\n",
      "4    42\n",
      "5    86\n",
      "6    65\n",
      "dtype: int32\n",
      "\n",
      "Последние 5 элементов:\n",
      "45    93\n",
      "46    95\n",
      "47    47\n",
      "48    45\n",
      "49    21\n",
      "dtype: int32\n"
     ]
    }
   ],
   "source": [
    "import pandas as pd\n",
    "import numpy as np\n",
    "\n",
    "# Создаем Series с 50 случайными целыми числами от 1 до 100\n",
    "series = pd.Series(np.random.randint(1, 101, 50))\n",
    "\n",
    "# Выводим первые 7 элементов с помощью .head()\n",
    "print(\"Первые 7 элементов:\")\n",
    "print(series.head(7))\n",
    "\n",
    "# Выводим последние 5 элементов с помощью .tail()\n",
    "print(\"\\nПоследние 5 элементов:\")\n",
    "print(series.tail(5))\n"
   ]
  },
  {
   "cell_type": "code",
   "execution_count": null,
   "id": "ab9665b5-ab31-42d6-9306-95b961e6d2e6",
   "metadata": {},
   "outputs": [],
   "source": []
  }
 ],
 "metadata": {
  "kernelspec": {
   "display_name": "Python [conda env:base] *",
   "language": "python",
   "name": "conda-base-py"
  },
  "language_info": {
   "codemirror_mode": {
    "name": "ipython",
    "version": 3
   },
   "file_extension": ".py",
   "mimetype": "text/x-python",
   "name": "python",
   "nbconvert_exporter": "python",
   "pygments_lexer": "ipython3",
   "version": "3.12.7"
  }
 },
 "nbformat": 4,
 "nbformat_minor": 5
}
