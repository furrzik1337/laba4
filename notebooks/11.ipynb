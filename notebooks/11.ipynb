{
 "cells": [
  {
   "cell_type": "code",
   "execution_count": 2,
   "id": "2d5d10c0-1c18-40ff-9ec6-a9f378ae3c1e",
   "metadata": {},
   "outputs": [
    {
     "name": "stdout",
     "output_type": "stream",
     "text": [
      "2024-03-05    37\n",
      "2024-03-06    48\n",
      "2024-03-07    97\n",
      "2024-03-08    55\n",
      "Freq: D, dtype: int32\n"
     ]
    }
   ],
   "source": [
    "import pandas as pd\n",
    "import numpy as np\n",
    "\n",
    "# Создаем Series с датами в качестве индексов и случайными числами в качестве значений\n",
    "dates = pd.date_range(start='2024-03-01', periods=10, freq='D')\n",
    "data = np.random.randint(10, 101, 10)  # Случайные числа от 10 до 100\n",
    "series = pd.Series(data, index=dates)\n",
    "\n",
    "# Выбираем данные за 5–8 марта включительно с помощью .loc\n",
    "selected_data = series.loc['2024-03-05':'2024-03-08']\n",
    "\n",
    "# Выводим выбранные данные\n",
    "print(selected_data)\n"
   ]
  },
  {
   "cell_type": "code",
   "execution_count": null,
   "id": "fdf59580-28dd-4698-a109-5e9c21b1948d",
   "metadata": {},
   "outputs": [],
   "source": []
  }
 ],
 "metadata": {
  "kernelspec": {
   "display_name": "Python [conda env:base] *",
   "language": "python",
   "name": "conda-base-py"
  },
  "language_info": {
   "codemirror_mode": {
    "name": "ipython",
    "version": 3
   },
   "file_extension": ".py",
   "mimetype": "text/x-python",
   "name": "python",
   "nbconvert_exporter": "python",
   "pygments_lexer": "ipython3",
   "version": "3.12.7"
  }
 },
 "nbformat": 4,
 "nbformat_minor": 5
}
