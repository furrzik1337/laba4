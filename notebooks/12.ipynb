{
 "cells": [
  {
   "cell_type": "code",
   "execution_count": 1,
   "id": "73c0f0b0-579f-4420-8ffc-7f678658f13e",
   "metadata": {},
   "outputs": [
    {
     "name": "stdout",
     "output_type": "stream",
     "text": [
      "Индексы уникальны: False\n",
      "\n",
      "Сгруппированный Series (повторяющиеся индексы сложены):\n",
      "A    40\n",
      "B    80\n",
      "C    40\n",
      "D    50\n",
      "dtype: int64\n"
     ]
    }
   ],
   "source": [
    "import pandas as pd\n",
    "\n",
    "# Создаем Series с повторяющимися индексами\n",
    "index = ['A', 'B', 'A', 'C', 'D', 'B']\n",
    "data = [10, 20, 30, 40, 50, 60]\n",
    "series = pd.Series(data, index=index)\n",
    "\n",
    "# Проверяем, являются ли индексы уникальными\n",
    "is_unique = series.index.is_unique\n",
    "print(\"Индексы уникальны:\", is_unique)\n",
    "\n",
    "# Если индексы не уникальны, группируем и складываем значения\n",
    "if not is_unique:\n",
    "    grouped_series = series.groupby(series.index).sum()\n",
    "    print(\"\\nСгруппированный Series (повторяющиеся индексы сложены):\")\n",
    "    print(grouped_series)\n"
   ]
  },
  {
   "cell_type": "code",
   "execution_count": null,
   "id": "fc520ecf-9b37-4951-8590-fc8a193d7cae",
   "metadata": {},
   "outputs": [],
   "source": []
  }
 ],
 "metadata": {
  "kernelspec": {
   "display_name": "Python [conda env:base] *",
   "language": "python",
   "name": "conda-base-py"
  },
  "language_info": {
   "codemirror_mode": {
    "name": "ipython",
    "version": 3
   },
   "file_extension": ".py",
   "mimetype": "text/x-python",
   "name": "python",
   "nbconvert_exporter": "python",
   "pygments_lexer": "ipython3",
   "version": "3.12.7"
  }
 },
 "nbformat": 4,
 "nbformat_minor": 5
}
