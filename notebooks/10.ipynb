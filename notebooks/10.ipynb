{
 "cells": [
  {
   "cell_type": "code",
   "execution_count": 1,
   "id": "5e52f216-35d7-4ab2-b32c-aa6841140680",
   "metadata": {},
   "outputs": [
    {
     "name": "stdout",
     "output_type": "stream",
     "text": [
      "Сумма: 2098\n",
      "Среднее: 104.9\n",
      "Минимум: 54\n",
      "Максимум: 150\n",
      "Стандартное отклонение: 34.223568364198194\n"
     ]
    }
   ],
   "source": [
    "import pandas as pd\n",
    "import numpy as np\n",
    "\n",
    "# Создаем Series из 20 случайных чисел от 50 до 150\n",
    "series = pd.Series(np.random.randint(50, 151, 20))\n",
    "\n",
    "# Находим сумму\n",
    "total_sum = series.sum()\n",
    "print(\"Сумма:\", total_sum)\n",
    "\n",
    "# Находим среднее\n",
    "mean_value = series.mean()\n",
    "print(\"Среднее:\", mean_value)\n",
    "\n",
    "# Находим минимальное значение\n",
    "min_value = series.min()\n",
    "print(\"Минимум:\", min_value)\n",
    "\n",
    "# Находим максимальное значение\n",
    "max_value = series.max()\n",
    "print(\"Максимум:\", max_value)\n",
    "\n",
    "# Находим стандартное отклонение\n",
    "std_deviation = series.std()\n",
    "print(\"Стандартное отклонение:\", std_deviation)\n"
   ]
  },
  {
   "cell_type": "code",
   "execution_count": null,
   "id": "abfa0d94-336d-4fe6-b966-0911a8cfc9a7",
   "metadata": {},
   "outputs": [],
   "source": []
  }
 ],
 "metadata": {
  "kernelspec": {
   "display_name": "Python [conda env:base] *",
   "language": "python",
   "name": "conda-base-py"
  },
  "language_info": {
   "codemirror_mode": {
    "name": "ipython",
    "version": 3
   },
   "file_extension": ".py",
   "mimetype": "text/x-python",
   "name": "python",
   "nbconvert_exporter": "python",
   "pygments_lexer": "ipython3",
   "version": "3.12.7"
  }
 },
 "nbformat": 4,
 "nbformat_minor": 5
}
