{
 "cells": [
  {
   "cell_type": "code",
   "execution_count": 3,
   "id": "787c87c2-1c02-474a-b814-80abf84f9888",
   "metadata": {},
   "outputs": [
    {
     "name": "stdout",
     "output_type": "stream",
     "text": [
      "Элемент с индексом 'C' (.loc[]): 36\n",
      "Третий элемент (.iloc[]): 36\n"
     ]
    }
   ],
   "source": [
    "import pandas as pd\n",
    "\n",
    "# Создаем Series\n",
    "data = [12, 24, 36, 48, 60]\n",
    "index = ['A', 'B', 'C', 'D', 'E']\n",
    "series = pd.Series(data, index=index)\n",
    "\n",
    "# Получаем элемент с индексом 'C' с помощью .loc[]\n",
    "element_loc = series.loc['C']\n",
    "print(\"Элемент с индексом 'C' (.loc[]):\", element_loc)\n",
    "\n",
    "# Получаем третий элемент с помощью .iloc[]\n",
    "element_iloc = series.iloc[2] \n",
    "print(\"Третий элемент (.iloc[]):\", element_iloc)\n"
   ]
  },
  {
   "cell_type": "code",
   "execution_count": null,
   "id": "10121c9f-7b4f-4b90-9959-49bf08d849b2",
   "metadata": {},
   "outputs": [],
   "source": []
  }
 ],
 "metadata": {
  "kernelspec": {
   "display_name": "Python [conda env:base] *",
   "language": "python",
   "name": "conda-base-py"
  },
  "language_info": {
   "codemirror_mode": {
    "name": "ipython",
    "version": 3
   },
   "file_extension": ".py",
   "mimetype": "text/x-python",
   "name": "python",
   "nbconvert_exporter": "python",
   "pygments_lexer": "ipython3",
   "version": "3.12.7"
  }
 },
 "nbformat": 4,
 "nbformat_minor": 5
}
