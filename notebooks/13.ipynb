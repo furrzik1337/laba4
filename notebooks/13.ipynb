{
 "cells": [
  {
   "cell_type": "code",
   "execution_count": 1,
   "id": "35d07559-47fb-4858-9999-8d85961397c9",
   "metadata": {},
   "outputs": [
    {
     "name": "stdout",
     "output_type": "stream",
     "text": [
      "Тип данных индекса: datetime64[ns]\n"
     ]
    }
   ],
   "source": [
    "import pandas as pd\n",
    "\n",
    "# Создаем Series со строковыми индексами\n",
    "index = ['2024-03-10', '2024-03-11', '2024-03-12']\n",
    "data = [100, 200, 300]\n",
    "series = pd.Series(data, index=index)\n",
    "\n",
    "# Преобразуем индексы в DatetimeIndex\n",
    "series.index = pd.to_datetime(series.index)\n",
    "\n",
    "# Выводим тип данных индекса\n",
    "print(\"Тип данных индекса:\", series.index.dtype)\n"
   ]
  },
  {
   "cell_type": "code",
   "execution_count": null,
   "id": "3eb4818c-8fe8-4740-8ae2-4d98bd1c5094",
   "metadata": {},
   "outputs": [],
   "source": []
  }
 ],
 "metadata": {
  "kernelspec": {
   "display_name": "Python [conda env:base] *",
   "language": "python",
   "name": "conda-base-py"
  },
  "language_info": {
   "codemirror_mode": {
    "name": "ipython",
    "version": 3
   },
   "file_extension": ".py",
   "mimetype": "text/x-python",
   "name": "python",
   "nbconvert_exporter": "python",
   "pygments_lexer": "ipython3",
   "version": "3.12.7"
  }
 },
 "nbformat": 4,
 "nbformat_minor": 5
}
