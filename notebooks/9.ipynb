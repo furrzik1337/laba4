{
 "cells": [
  {
   "cell_type": "code",
   "execution_count": 1,
   "id": "c2ef3873-248d-497d-9463-dbb23dd4e77b",
   "metadata": {},
   "outputs": [
    {
     "name": "stdout",
     "output_type": "stream",
     "text": [
      "0    1.414214\n",
      "1    2.000000\n",
      "2    2.449490\n",
      "3    2.828427\n",
      "4    3.162278\n",
      "dtype: float64\n"
     ]
    }
   ],
   "source": [
    "import pandas as pd\n",
    "import numpy as np\n",
    "\n",
    "# Создаем Series из чисел\n",
    "data = [2, 4, 6, 8, 10]\n",
    "series = pd.Series(data)\n",
    "\n",
    "# Применяем функцию вычисления квадратного корня с помощью .apply(np.sqrt)\n",
    "sqrt_series = series.apply(np.sqrt)\n",
    "\n",
    "# Выводим результат\n",
    "print(sqrt_series)\n"
   ]
  },
  {
   "cell_type": "code",
   "execution_count": null,
   "id": "1478ce4e-38a5-497c-abbd-f45950461619",
   "metadata": {},
   "outputs": [],
   "source": []
  }
 ],
 "metadata": {
  "kernelspec": {
   "display_name": "Python [conda env:base] *",
   "language": "python",
   "name": "conda-base-py"
  },
  "language_info": {
   "codemirror_mode": {
    "name": "ipython",
    "version": 3
   },
   "file_extension": ".py",
   "mimetype": "text/x-python",
   "name": "python",
   "nbconvert_exporter": "python",
   "pygments_lexer": "ipython3",
   "version": "3.12.7"
  }
 },
 "nbformat": 4,
 "nbformat_minor": 5
}
