{
 "cells": [
  {
   "cell_type": "code",
   "execution_count": 3,
   "id": "42607e4a-acee-4820-906e-a5f7f0d5923a",
   "metadata": {},
   "outputs": [
    {
     "name": "stdout",
     "output_type": "stream",
     "text": [
      "3    25\n",
      "4    36\n",
      "5    49\n",
      "6    64\n",
      "dtype: int32\n"
     ]
    }
   ],
   "source": [
    "import pandas as pd\n",
    "import numpy as np\n",
    "\n",
    "# Создаем массив NumPy\n",
    "numpy_array = np.array([4, 9, 16, 25, 36, 49, 64])\n",
    "\n",
    "# Создаем Series из массива NumPy\n",
    "series = pd.Series(numpy_array)\n",
    "\n",
    "# Выбираем элементы, которые больше 20\n",
    "fseries = series[series > 20]\n",
    "\n",
    "# Выводим результат\n",
    "print(fseries)\n"
   ]
  },
  {
   "cell_type": "code",
   "execution_count": null,
   "id": "7c3a82db-66ed-4859-b5f7-3c5dccb731f1",
   "metadata": {},
   "outputs": [],
   "source": []
  }
 ],
 "metadata": {
  "kernelspec": {
   "display_name": "Python [conda env:base] *",
   "language": "python",
   "name": "conda-base-py"
  },
  "language_info": {
   "codemirror_mode": {
    "name": "ipython",
    "version": 3
   },
   "file_extension": ".py",
   "mimetype": "text/x-python",
   "name": "python",
   "nbconvert_exporter": "python",
   "pygments_lexer": "ipython3",
   "version": "3.12.7"
  }
 },
 "nbformat": 4,
 "nbformat_minor": 5
}
