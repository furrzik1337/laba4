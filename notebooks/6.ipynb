{
 "cells": [
  {
   "cell_type": "code",
   "execution_count": 1,
   "id": "fcf77666-f5e9-49b8-8cf6-3f09a2beee81",
   "metadata": {},
   "outputs": [
    {
     "name": "stdout",
     "output_type": "stream",
     "text": [
      "Индексы элементов с пропущенными значениями (NaN): Index([1, 3], dtype='int64')\n"
     ]
    }
   ],
   "source": [
    "import pandas as pd\n",
    "import numpy as np\n",
    "\n",
    "# Создаем Series с пропущенными значениями (NaN)\n",
    "data = [1.2, np.nan, 3.4, np.nan, 5.6, 6.8]\n",
    "series = pd.Series(data)\n",
    "\n",
    "# Проверяем наличие пропущенных значений (NaN) с помощью .isna() или .isnull()\n",
    "# is_na = series.isna()\n",
    "is_na = series.isnull()  # Эквивалентно series.isna()\n",
    "\n",
    "# Выводим индексы элементов с пропущенными значениями\n",
    "nan_indices = is_na[is_na].index\n",
    "print(\"Индексы элементов с пропущенными значениями (NaN):\", nan_indices)\n"
   ]
  },
  {
   "cell_type": "code",
   "execution_count": null,
   "id": "0737175d-bd87-4326-9567-6c556875c783",
   "metadata": {},
   "outputs": [],
   "source": []
  }
 ],
 "metadata": {
  "kernelspec": {
   "display_name": "Python [conda env:base] *",
   "language": "python",
   "name": "conda-base-py"
  },
  "language_info": {
   "codemirror_mode": {
    "name": "ipython",
    "version": 3
   },
   "file_extension": ".py",
   "mimetype": "text/x-python",
   "name": "python",
   "nbconvert_exporter": "python",
   "pygments_lexer": "ipython3",
   "version": "3.12.7"
  }
 },
 "nbformat": 4,
 "nbformat_minor": 5
}
